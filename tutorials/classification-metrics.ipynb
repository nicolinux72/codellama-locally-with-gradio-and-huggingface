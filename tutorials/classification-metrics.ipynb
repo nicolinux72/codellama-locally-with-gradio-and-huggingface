{
 "cells": [
  {
   "cell_type": "markdown",
   "id": "6411703c-912a-449b-b344-0474279c1ddd",
   "metadata": {},
   "source": [
    "# Classification: metrics and decision theory"
   ]
  },
  {
   "cell_type": "markdown",
   "id": "df679c04-0a77-4119-a77d-29617efdaa66",
   "metadata": {},
   "source": [
    "How could we evaluate our model if:\n",
    "* we don't know real input $\\boldsymbol{x}$;\n",
    "* we make mistakes with dataset also (not 100% correct); "
   ]
  },
  {
   "cell_type": "markdown",
   "id": "d7a432e9-812f-493a-9862-4b40dca782af",
   "metadata": {},
   "source": [
    "## Setup"
   ]
  },
  {
   "cell_type": "code",
   "execution_count": 29,
   "id": "1e388bff-9c5c-4dd8-a64b-44416e7f91cb",
   "metadata": {},
   "outputs": [],
   "source": [
    "import numpy as np\n",
    "import pandas as pd\n",
    "from IPython.display import display, Math, Latex\n",
    "import matplotlib.pyplot as plt\n",
    "from sklearn.metrics import roc_curve, auc"
   ]
  },
  {
   "cell_type": "markdown",
   "id": "26bf0afc-f8ec-4c37-a8a2-3b43773b8e78",
   "metadata": {},
   "source": [
    "## Functions"
   ]
  },
  {
   "cell_type": "markdown",
   "id": "a1f3dfa8-7341-4b80-af71-bac8df8cf8b1",
   "metadata": {},
   "source": [
    "Notes:\n",
    "* block variables scope;\n",
    "* ternary valuse: if-else;\n",
    "* numeric python;\n",
    "* array slices;\n",
    "* object orientation: built-in function like sum, special function like `__iter__`,`__len__`, `__getitem__`;\n",
    "* muliple return values;\n"
   ]
  },
  {
   "cell_type": "code",
   "execution_count": 30,
   "id": "7fb98736-e091-4dd5-958e-805504b7a7ad",
   "metadata": {},
   "outputs": [],
   "source": [
    "def confusion_matrix(n):   \n",
    "    TN=sum(negative_frequencies[:n]); FP=sum(negative_frequencies[n:]); TP=sum(positive_frequencies[n:]); FN=sum(positive_frequencies[:n])\n",
    "\n",
    "    df=pd.DataFrame({ 'Normal': [TN, FN], 'Cancer': [FP, TP]}, index= ['T:Normal', 'T:Cancer'])\n",
    "    \n",
    "    df[\"condition\"]=df.sum(axis=1)\n",
    "    df.loc['prediction']=df.sum()\n",
    "    # globals\n",
    "    PN=df.loc['prediction','Normal'];PP=df.loc['prediction','Cancer'];\n",
    "    return TN,FP,TP,FN,PN,PP,df\n",
    "\n",
    "def compute_metrics():\n",
    "    ACC=(TP+TN)/T;  TPR=TP/P; FPR=FP/N\n",
    "    PPV= TP/PP if PP != 0 else -1\n",
    "    return ACC,PPV,TPR,FPR\n",
    "\n",
    "def draw_roc():\n",
    "    fpr_values = np.arange(0.0, 1.1, 0.1)\n",
    "    tpr_values = np.arange(0.0, 1.1, 0.1)\n",
    "        \n",
    "    for n in range(0, 11):\n",
    "        TN,FP,TP,FN,PN,PP,df= confusion_matrix(n)\n",
    "        fpr_values[n]= FP/N\n",
    "        tpr_values[n]= TP/P\n",
    "\n",
    "    roc_auc = auc(fpr_values, tpr_values)\n",
    "    \n",
    "    plt.figure()\n",
    "    plt.plot(fpr_values, tpr_values, color='darkorange', lw=2, label='ROC curve (auc = %0.2f)' % roc_auc)\n",
    "    plt.plot([0, 1], [0, 1], color='navy', lw=2, linestyle='--')  # Linea di riferimento\n",
    "    plt.xlim([0.0, 1.0])\n",
    "    plt.ylim([0.0, 1.05])\n",
    "    plt.xlabel('False Positive Rate')\n",
    "    plt.ylabel('True Positive Rate)')\n",
    "    plt.title('ROC curve')\n",
    "    plt.legend(loc=\"lower right\")\n",
    "    #plt.show()\n",
    "    return plt\n",
    "\n",
    "def draw_prob():\n",
    "    fig, ax = plt.subplots()\n",
    "    \n",
    "    ax.bar(x_values, positive_frequencies, label='Positivi', color='red', width=0.05)\n",
    "    ax.bar(x_values, negative_frequencies, bottom=positive_frequencies, label='Negativi', color='green', width=0.05)\n",
    "    \n",
    "    ax.set_xlabel('conditional probability')\n",
    "    ax.set_ylabel('Frequency')\n",
    "    ax.set_title('Classifier conditional probability')\n",
    "    ax.legend()\n",
    "    \n",
    "    return plt"
   ]
  },
  {
   "cell_type": "markdown",
   "id": "e501a706-3d19-449c-8d8e-033da8162f17",
   "metadata": {},
   "source": [
    "## Classificator\n",
    "\n"
   ]
  },
  {
   "cell_type": "markdown",
   "id": "9df5442a-3834-49da-9f0b-d354d99fb771",
   "metadata": {},
   "source": [
    "The clissifier should return a conditional distribution $P(C_k|\\boldsymbol{x})$.\n",
    "\n",
    "Notes:\n",
    "* Returning full pdf $P(C_k,\\boldsymbol{x})$;\n",
    "* Returning conditional distribution $P(C_k|\\boldsymbol{x})$;\n",
    "* Returning class $C_k$;"
   ]
  },
  {
   "cell_type": "code",
   "execution_count": 31,
   "id": "28087648-8d56-4762-9224-095419ab95a4",
   "metadata": {},
   "outputs": [
    {
     "data": {
      "text/plain": [
       "<module 'matplotlib.pyplot' from '/home/nicola/miniconda3/envs/jupyter/lib/python3.10/site-packages/matplotlib/pyplot.py'>"
      ]
     },
     "execution_count": 31,
     "metadata": {},
     "output_type": "execute_result"
    },
    {
     "data": {
      "image/png": "[encoded data removed]",
      "text/plain": [
       "<Figure size 640x480 with 1 Axes>"
      ]
     },
     "metadata": {},
     "output_type": "display_data"
    }
   ],
   "source": [
    "# Valori discreti sull'asse x\n",
    "x_values =  np.arange(0.1, 1.0, 0.1)\n",
    "\n",
    "perfect_classifier   = (np.array([31, 24, 14, 14, 8, 5, 0, 0, 0]), \n",
    "                        np.array([ 0,  0,  0,  0, 0, 0, 1, 1, 2])) \n",
    "\n",
    "imperfect_classifier = (np.array([31, 24, 14, 14, 8, 0, 5, 0, 0]), \n",
    "                        np.array([ 0,  0,  0,  0, 0, 1, 0, 1, 2])) \n",
    "\n",
    "messy_classifier     = (np.array([21, 24, 14, 14, 8, 5, 5, 1, 4]), \n",
    "                        np.array([ 0,  1,  0,  1, 0, 0, 0, 1, 1])) \n",
    "\n",
    "negative_frequencies, positive_frequencies = messy_classifier\n",
    "N=sum(negative_frequencies); P=sum(positive_frequencies); T=N+P\n",
    "\n",
    "draw_prob()"
   ]
  },
  {
   "cell_type": "markdown",
   "id": "4f1f435d-112d-4fd8-9302-c79da3fa8e0d",
   "metadata": {},
   "source": [
    "## Confusion matrix"
   ]
  },
  {
   "cell_type": "markdown",
   "id": "3b20d642-a163-4b59-807a-d016f30260e5",
   "metadata": {},
   "source": [
    "Notes:\n",
    "* row sums are fixed;\n",
    "* columns sums change with threshold;"
   ]
  },
  {
   "cell_type": "code",
   "execution_count": 32,
   "id": "4c4bb490-28db-4ab0-be14-c24b419f07a2",
   "metadata": {},
   "outputs": [
    {
     "name": "stdout",
     "output_type": "stream",
     "text": [
      "Metrics: ACC:0.93, PPV:0.2857142857142857, TRP:0.5, FPR:0.052083333333333336\n",
      "\n",
      "            Normal  Cancer  condition\n",
      "T:Normal        91       5         96\n",
      "T:Cancer         2       2          4\n",
      "prediction      93       7        100\n"
     ]
    }
   ],
   "source": [
    "TN,FP,TP,FN,PN,PP,df= confusion_matrix(7)\n",
    "ACC,PPV,TPR,FPR = compute_metrics()\n",
    "\n",
    "print(f\"Metrics: ACC:{ACC}, PPV:{PPV}, TRP:{TPR}, FPR:{FPR}\\n\");\n",
    "print(df)"
   ]
  },
  {
   "cell_type": "markdown",
   "id": "8dcf566b-0b28-416e-a820-3175687047b6",
   "metadata": {},
   "source": [
    "![](images/totali.png)"
   ]
  },
  {
   "cell_type": "markdown",
   "id": "fd481aef-ef18-433b-bfe9-90aeec57f135",
   "metadata": {},
   "source": [
    "## Metrics"
   ]
  },
  {
   "cell_type": "markdown",
   "id": "ffeeb157-b90a-4b24-979e-55f9a0f62d24",
   "metadata": {},
   "source": [
    "### Accuracy\n",
    "\n",
    "![](images/accuracy.png)\n",
    "\n",
    "$ACC=\\frac{TP+TN}{Total}$\n",
    "\n",
    "Notes:\n",
    "* predict always Normal has a good accuracy;\n"
   ]
  },
  {
   "cell_type": "code",
   "execution_count": 33,
   "id": "15240789-eaeb-41e7-9fdb-ddf407e9ffe3",
   "metadata": {
    "scrolled": true
   },
   "outputs": [
    {
     "data": {
      "text/latex": [
       "Accuracy $ACC=\\frac{TP+TN}{Total}=0.93$"
      ],
      "text/plain": [
       "<IPython.core.display.Latex object>"
      ]
     },
     "metadata": {},
     "output_type": "display_data"
    }
   ],
   "source": [
    "ACC=(TP+TN)/T\n",
    "display(Latex(r'Accuracy $ACC=\\frac{{TP+TN}}{{Total}}={}$'.format(ACC)))"
   ]
  },
  {
   "cell_type": "markdown",
   "id": "f3bcbb7f-a432-485d-b8e0-b9c9f1e735b7",
   "metadata": {
    "jp-MarkdownHeadingCollapsed": true
   },
   "source": [
    "### Precision\n",
    "\n",
    "![](images/precision.png)\n",
    "\n",
    "$PPV=\\frac{TP}{PP}=\\frac{TP}{TP+FP}$"
   ]
  },
  {
   "cell_type": "code",
   "execution_count": 34,
   "id": "20c4a4c0-dc00-471d-b717-c106eea44623",
   "metadata": {},
   "outputs": [
    {
     "data": {
      "text/latex": [
       "Precision $PPV=\\frac{TP}{PP}=0.2857142857142857$"
      ],
      "text/plain": [
       "<IPython.core.display.Latex object>"
      ]
     },
     "metadata": {},
     "output_type": "display_data"
    }
   ],
   "source": [
    "PPV=TP/PP\n",
    "display(Latex(r'Precision $PPV=\\frac{{TP}}{{PP}}={}$'.format(PPV)))"
   ]
  },
  {
   "cell_type": "markdown",
   "id": "e5b44f14-1fec-43a3-b36c-1fb820e10074",
   "metadata": {},
   "source": [
    "### True positive rate (recall, sensitivity)\n",
    "![](images/recall.png)\n",
    "\n",
    "$TPR=SEN=\\frac{TP}{P}=\\frac{TP}{TP+FN}$\n"
   ]
  },
  {
   "cell_type": "code",
   "execution_count": 35,
   "id": "c423aa10-4ec5-4e1f-bdc2-8414984b28b8",
   "metadata": {},
   "outputs": [
    {
     "data": {
      "text/latex": [
       "Recall $PPV=\\frac{TP}{P}=0.5$"
      ],
      "text/plain": [
       "<IPython.core.display.Latex object>"
      ]
     },
     "metadata": {},
     "output_type": "display_data"
    }
   ],
   "source": [
    "TPR=TP/P\n",
    "display(Latex(r'Recall $PPV=\\frac{{TP}}{{P}}={}$'.format(TPR)))"
   ]
  },
  {
   "cell_type": "markdown",
   "id": "1cc399c7-9869-40d7-b872-6a93219b3b18",
   "metadata": {},
   "source": [
    "### False positive rate\n",
    "\n",
    "![](images/false-positive-rate.png)\n",
    "\n",
    "$FPR=\\frac{FP}{N}$"
   ]
  },
  {
   "cell_type": "code",
   "execution_count": 36,
   "id": "7f818e70-598c-4652-b7ba-3b1288ecd79a",
   "metadata": {},
   "outputs": [
    {
     "data": {
      "text/latex": [
       "False positive rate $FPR=\\frac{FP}{N}=0.052083333333333336$"
      ],
      "text/plain": [
       "<IPython.core.display.Latex object>"
      ]
     },
     "metadata": {},
     "output_type": "display_data"
    }
   ],
   "source": [
    "FPR=FP/N\n",
    "display(Latex(r'False positive rate $FPR=\\frac{{FP}}{{N}}={}$'.format(FPR)))"
   ]
  },
  {
   "cell_type": "markdown",
   "id": "b5ab895f-81d0-4470-95bf-6870d4f09e4c",
   "metadata": {},
   "source": [
    "## Decision theory"
   ]
  },
  {
   "cell_type": "markdown",
   "id": "608e3f51-a6a6-41fd-95c4-def521aaf4a9",
   "metadata": {},
   "source": [
    "Notes:\n",
    "* classificator is "
   ]
  },
  {
   "cell_type": "markdown",
   "id": "ec8c63a2-5ba1-49fc-b99e-cbc231100e6a",
   "metadata": {},
   "source": [
    "### Confutions matrices"
   ]
  },
  {
   "cell_type": "code",
   "execution_count": 37,
   "id": "f8937dfd-e816-427a-80d0-e94db979bdc2",
   "metadata": {},
   "outputs": [
    {
     "name": "stdout",
     "output_type": "stream",
     "text": [
      "Threshold:0.0 Metrics: ACC:0.04, PPV:0.04, TRP:1.0, FPR:1.0\n",
      "\n",
      "            Normal  Cancer  condition\n",
      "T:Normal         0      96         96\n",
      "T:Cancer         0       4          4\n",
      "prediction       0     100        100 \n",
      "\n",
      "\n",
      "Threshold:0.1 Metrics: ACC:0.25, PPV:0.05063291139240506, TRP:1.0, FPR:0.78125\n",
      "\n",
      "            Normal  Cancer  condition\n",
      "T:Normal        21      75         96\n",
      "T:Cancer         0       4          4\n",
      "prediction      21      79        100 \n",
      "\n",
      "\n",
      "Threshold:0.2 Metrics: ACC:0.48, PPV:0.05555555555555555, TRP:0.75, FPR:0.53125\n",
      "\n",
      "            Normal  Cancer  condition\n",
      "T:Normal        45      51         96\n",
      "T:Cancer         1       3          4\n",
      "prediction      46      54        100 \n",
      "\n",
      "\n",
      "Threshold:0.3 Metrics: ACC:0.62, PPV:0.075, TRP:0.75, FPR:0.3854166666666667\n",
      "\n",
      "            Normal  Cancer  condition\n",
      "T:Normal        59      37         96\n",
      "T:Cancer         1       3          4\n",
      "prediction      60      40        100 \n",
      "\n",
      "\n",
      "Threshold:0.4 Metrics: ACC:0.75, PPV:0.08, TRP:0.5, FPR:0.23958333333333334\n",
      "\n",
      "            Normal  Cancer  condition\n",
      "T:Normal        73      23         96\n",
      "T:Cancer         2       2          4\n",
      "prediction      75      25        100 \n",
      "\n",
      "\n",
      "Threshold:0.5 Metrics: ACC:0.83, PPV:0.11764705882352941, TRP:0.5, FPR:0.15625\n",
      "\n",
      "            Normal  Cancer  condition\n",
      "T:Normal        81      15         96\n",
      "T:Cancer         2       2          4\n",
      "prediction      83      17        100 \n",
      "\n",
      "\n",
      "Threshold:0.6 Metrics: ACC:0.88, PPV:0.16666666666666666, TRP:0.5, FPR:0.10416666666666667\n",
      "\n",
      "            Normal  Cancer  condition\n",
      "T:Normal        86      10         96\n",
      "T:Cancer         2       2          4\n",
      "prediction      88      12        100 \n",
      "\n",
      "\n",
      "Threshold:0.7 Metrics: ACC:0.93, PPV:0.2857142857142857, TRP:0.5, FPR:0.052083333333333336\n",
      "\n",
      "            Normal  Cancer  condition\n",
      "T:Normal        91       5         96\n",
      "T:Cancer         2       2          4\n",
      "prediction      93       7        100 \n",
      "\n",
      "\n",
      "Threshold:0.8 Metrics: ACC:0.93, PPV:0.2, TRP:0.25, FPR:0.041666666666666664\n",
      "\n",
      "            Normal  Cancer  condition\n",
      "T:Normal        92       4         96\n",
      "T:Cancer         3       1          4\n",
      "prediction      95       5        100 \n",
      "\n",
      "\n",
      "Threshold:0.9 Metrics: ACC:0.96, PPV:-1, TRP:0.0, FPR:0.0\n",
      "\n",
      "            Normal  Cancer  condition\n",
      "T:Normal        96       0         96\n",
      "T:Cancer         4       0          4\n",
      "prediction     100       0        100 \n",
      "\n",
      "\n",
      "Threshold:1.0 Metrics: ACC:0.96, PPV:-1, TRP:0.0, FPR:0.0\n",
      "\n",
      "            Normal  Cancer  condition\n",
      "T:Normal        96       0         96\n",
      "T:Cancer         4       0          4\n",
      "prediction     100       0        100 \n",
      "\n",
      "\n"
     ]
    }
   ],
   "source": [
    "for n in range(0, 11):\n",
    "    TN,FP,TP,FN,PN,PP,df= confusion_matrix(n)\n",
    "    ACC,PPV,TPR,FPR = compute_metrics()\n",
    "    \n",
    "    print(f\"Threshold:{n/10} Metrics: ACC:{ACC}, PPV:{PPV}, TRP:{TPR}, FPR:{FPR}\\n\");\n",
    "    print(df, '\\n\\n')\n",
    "    "
   ]
  },
  {
   "cell_type": "markdown",
   "id": "51ccc632-067b-4025-8fa0-b55c9cfccc59",
   "metadata": {},
   "source": [
    "### ROC curve"
   ]
  },
  {
   "cell_type": "markdown",
   "id": "94c64e65-6fc8-408e-acf1-6bdfbcf4b001",
   "metadata": {},
   "source": [
    "Notes:\n",
    "* median meaning;\n",
    "* best curve;\n",
    "* syntetic index;\n",
    "* auc valuate the classifier;\n",
    "* roc curve could be use to choice the threshold;"
   ]
  },
  {
   "cell_type": "code",
   "execution_count": 38,
   "id": "f8fd4569-acd8-412a-8adb-a48d3428dac7",
   "metadata": {},
   "outputs": [
    {
     "data": {
      "text/plain": [
       "<module 'matplotlib.pyplot' from '/home/nicola/miniconda3/envs/jupyter/lib/python3.10/site-packages/matplotlib/pyplot.py'>"
      ]
     },
     "execution_count": 38,
     "metadata": {},
     "output_type": "execute_result"
    },
    {
     "data": {
      "image/png": "[encoded data removed]",
      "text/plain": [
       "<Figure size 640x480 with 1 Axes>"
      ]
     },
     "metadata": {},
     "output_type": "display_data"
    }
   ],
   "source": [
    "draw_roc()"
   ]
  },
  {
   "cell_type": "markdown",
   "id": "048a083e-b23a-4d68-9618-757dad2ff28f",
   "metadata": {},
   "source": [
    "### Threshold choice"
   ]
  },
  {
   "cell_type": "markdown",
   "id": "34346c63-ae32-4ddd-bc90-75a319239955",
   "metadata": {},
   "source": [
    "Notes:\n",
    "* decision regions;"
   ]
  },
  {
   "cell_type": "markdown",
   "id": "8b3e82f0-a22a-41b5-8022-98315a0f5ca7",
   "metadata": {},
   "source": [
    "![](images/decision-theory.png)"
   ]
  },
  {
   "cell_type": "markdown",
   "id": "903798b8-fb39-417a-a85b-54c00171c8ef",
   "metadata": {},
   "source": [
    "## References\n",
    "* [Precision and recall](https://en.wikipedia.org/wiki/Precision_and_recall)\n",
    "* [Receiver operating characteristic](https://en.wikipedia.org/wiki/Receiver_operating_characteristic)\n",
    "* [Threshold Lab](https://developers.google.com/machine-learning/crash-course/classification/accuracy-precision-recall?hl=it)\n",
    "* [ROC curve](https://arogozhnikov.github.io/2015/10/05/roc-curve.html)\n"
   ]
  }
 ],
 "metadata": {
  "kernelspec": {
   "display_name": "Python 3 (ipykernel)",
   "language": "python",
   "name": "python3"
  },
  "language_info": {
   "codemirror_mode": {
    "name": "ipython",
    "version": 3
   },
   "file_extension": ".py",
   "mimetype": "text/x-python",
   "name": "python",
   "nbconvert_exporter": "python",
   "pygments_lexer": "ipython3",
   "version": "3.10.14"
  }
 },
 "nbformat": 4,
 "nbformat_minor": 5
}
