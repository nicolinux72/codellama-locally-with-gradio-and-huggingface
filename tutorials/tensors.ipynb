{
 "cells": [
  {
   "cell_type": "markdown",
   "id": "ef1ecc7f-7db0-4d50-99af-ce2cc1f9f2de",
   "metadata": {},
   "source": [
    "# Tensors"
   ]
  },
  {
   "cell_type": "code",
   "execution_count": 2,
   "id": "c1332a1b-a2c6-4c84-aa68-7e97c5ccec25",
   "metadata": {},
   "outputs": [
    {
     "name": "stderr",
     "output_type": "stream",
     "text": [
      "2024-12-09 15:58:06.497901: I tensorflow/core/util/port.cc:113] oneDNN custom operations are on. You may see slightly different numerical results due to floating-point round-off errors from different computation orders. To turn them off, set the environment variable `TF_ENABLE_ONEDNN_OPTS=0`.\n",
      "2024-12-09 15:58:06.499679: I external/local_tsl/tsl/cuda/cudart_stub.cc:32] Could not find cuda drivers on your machine, GPU will not be used.\n",
      "2024-12-09 15:58:06.550263: I external/local_tsl/tsl/cuda/cudart_stub.cc:32] Could not find cuda drivers on your machine, GPU will not be used.\n",
      "2024-12-09 15:58:06.754577: I tensorflow/core/platform/cpu_feature_guard.cc:210] This TensorFlow binary is optimized to use available CPU instructions in performance-critical operations.\n",
      "To enable the following instructions: AVX2 AVX512F AVX512_VNNI FMA, in other operations, rebuild TensorFlow with the appropriate compiler flags.\n",
      "2024-12-09 15:58:11.937424: W tensorflow/compiler/tf2tensorrt/utils/py_utils.cc:38] TF-TRT Warning: Could not find TensorRT\n"
     ]
    }
   ],
   "source": [
    "import tensorflow as tf"
   ]
  },
  {
   "cell_type": "markdown",
   "id": "5a16cb32-2a26-4cff-9130-a15729813148",
   "metadata": {},
   "source": [
    "## Rank and shape"
   ]
  },
  {
   "cell_type": "markdown",
   "id": "d1e8947e-c448-4c58-abba-c595d2d75266",
   "metadata": {},
   "source": [
    "### Rank 1"
   ]
  },
  {
   "cell_type": "markdown",
   "id": "2a291edf-bab1-4f33-b0d0-c6e68a610bbe",
   "metadata": {},
   "source": [
    "Define an 1-rank tensor of four integers\n",
    "\n",
    "![](images/rank1.png)"
   ]
  },
  {
   "cell_type": "code",
   "execution_count": 36,
   "id": "c626f254-d625-499f-8f36-79653f1b7277",
   "metadata": {},
   "outputs": [
    {
     "data": {
      "text/plain": [
       "<tf.Tensor: shape=(4,), dtype=int32, numpy=array([ 7,  2,  9, 10], dtype=int32)>"
      ]
     },
     "execution_count": 36,
     "metadata": {},
     "output_type": "execute_result"
    }
   ],
   "source": [
    "t1=tf.constant([ 7, 2, 9, 10])\n",
    "t1"
   ]
  },
  {
   "cell_type": "markdown",
   "id": "c6ee50f0-f506-461d-a502-914f013a610d",
   "metadata": {},
   "source": [
    "Check tensor rank"
   ]
  },
  {
   "cell_type": "code",
   "execution_count": 42,
   "id": "01ceeada-b49c-4602-bf95-f2671e90de91",
   "metadata": {},
   "outputs": [
    {
     "data": {
      "text/plain": [
       "<tf.Tensor: shape=(), dtype=int32, numpy=1>"
      ]
     },
     "execution_count": 42,
     "metadata": {},
     "output_type": "execute_result"
    }
   ],
   "source": [
    "tf.rank(t1).numpy()"
   ]
  },
  {
   "cell_type": "markdown",
   "id": "10631433-ca9e-48f5-856c-e09d81ae4190",
   "metadata": {},
   "source": [
    "Access tensor content:"
   ]
  },
  {
   "cell_type": "code",
   "execution_count": 41,
   "id": "b7975c57-21c7-4209-8eb6-326a70307530",
   "metadata": {},
   "outputs": [
    {
     "data": {
      "text/plain": [
       "2"
      ]
     },
     "execution_count": 41,
     "metadata": {},
     "output_type": "execute_result"
    }
   ],
   "source": [
    "t1[1].numpy()"
   ]
  },
  {
   "cell_type": "markdown",
   "id": "5cf0aea9-31d0-43be-b777-49ec8c3b25a8",
   "metadata": {},
   "source": [
    "### Rank 2"
   ]
  },
  {
   "cell_type": "markdown",
   "id": "1a527a09-4a82-435f-8036-6b99c2c17350",
   "metadata": {},
   "source": [
    "Define an 2-rank tensor of four integers\n",
    "\n",
    "![](images/rank2.png)\n"
   ]
  },
  {
   "cell_type": "code",
   "execution_count": 6,
   "id": "4c7bdd9e-4e29-40dd-8f27-22caf4e5d6c5",
   "metadata": {},
   "outputs": [
    {
     "data": {
      "text/plain": [
       "<tf.Tensor: shape=(2, 3), dtype=float32, numpy=\n",
       "array([[5.1, 3. , 4.5],\n",
       "       [9.1, 0.1, 0.3]], dtype=float32)>"
      ]
     },
     "execution_count": 6,
     "metadata": {},
     "output_type": "execute_result"
    }
   ],
   "source": [
    "t2=tf.constant([ [5.1, 3.0, 4.5],  [9.1, 0.1, 0.3] ] )\n",
    "t2"
   ]
  },
  {
   "cell_type": "markdown",
   "id": "7315a03c-917e-4d0c-a509-d4f43e3262db",
   "metadata": {},
   "source": [
    "Access tensor content:"
   ]
  },
  {
   "cell_type": "code",
   "execution_count": 7,
   "id": "842cb5e4-1809-4c0b-a8fd-12833d6b3e6a",
   "metadata": {},
   "outputs": [
    {
     "data": {
      "text/plain": [
       "<tf.Tensor: shape=(), dtype=float32, numpy=4.5>"
      ]
     },
     "execution_count": 7,
     "metadata": {},
     "output_type": "execute_result"
    }
   ],
   "source": [
    "t2[0,2]"
   ]
  },
  {
   "cell_type": "markdown",
   "id": "df4b7ba1-7b9a-4ac6-baef-36879dd93070",
   "metadata": {},
   "source": [
    "### Rank 3"
   ]
  },
  {
   "cell_type": "markdown",
   "id": "175f1e72-cd9d-436e-ab49-e762d40a66cd",
   "metadata": {},
   "source": [
    "Define an 3-rank tensor of four integers"
   ]
  },
  {
   "cell_type": "code",
   "execution_count": 8,
   "id": "7377c89d-0b8b-441c-8861-8dc38fe5e5d4",
   "metadata": {},
   "outputs": [
    {
     "data": {
      "text/plain": [
       "<tf.Tensor: shape=(3, 2, 5), dtype=int32, numpy=\n",
       "array([[[ 0,  1,  2,  3,  4],\n",
       "        [ 5,  6,  7,  8,  9]],\n",
       "\n",
       "       [[10, 11, 12, 13, 14],\n",
       "        [15, 16, 17, 18, 19]],\n",
       "\n",
       "       [[20, 21, 22, 23, 24],\n",
       "        [25, 26, 27, 28, 29]]], dtype=int32)>"
      ]
     },
     "execution_count": 8,
     "metadata": {},
     "output_type": "execute_result"
    }
   ],
   "source": [
    "t3=tf.constant([[[0, 1, 2, 3, 4], [5, 6, 7, 8, 9]], [[10, 11, 12, 13, 14], [15, 16, 17, 18, 19]], [[20, 21, 22, 23, 24], [25, 26, 27, 28, 29]], ] )\n",
    "t3"
   ]
  },
  {
   "cell_type": "markdown",
   "id": "354b5142-5d4e-490e-be36-7473961bf9ca",
   "metadata": {},
   "source": [
    "Access tensor content:"
   ]
  },
  {
   "cell_type": "code",
   "execution_count": 9,
   "id": "feeedf0e-cc9d-4c16-8eb4-5eb53cb620b4",
   "metadata": {},
   "outputs": [
    {
     "data": {
      "text/plain": [
       "<tf.Tensor: shape=(), dtype=int32, numpy=25>"
      ]
     },
     "execution_count": 9,
     "metadata": {},
     "output_type": "execute_result"
    }
   ],
   "source": [
    "t3[2,1,0]"
   ]
  },
  {
   "cell_type": "markdown",
   "id": "9b04aa06-69e8-4fc1-a991-02e60b096a46",
   "metadata": {},
   "source": [
    "### Rank 0"
   ]
  },
  {
   "cell_type": "markdown",
   "id": "333f993a-e4f1-4d77-82b5-69aac0294fd9",
   "metadata": {
    "editable": true,
    "slideshow": {
     "slide_type": ""
    },
    "tags": []
   },
   "source": [
    "Rank 0 tensor are not exactly like rank 1 tensor with shape(1)."
   ]
  },
  {
   "cell_type": "code",
   "execution_count": 10,
   "id": "0b8618ce-42a0-45cf-a923-6e18318b784f",
   "metadata": {},
   "outputs": [
    {
     "data": {
      "text/plain": [
       "<tf.Tensor: shape=(), dtype=int32, numpy=7>"
      ]
     },
     "execution_count": 10,
     "metadata": {},
     "output_type": "execute_result"
    }
   ],
   "source": [
    "t0=tf.constant(7)\n",
    "t0"
   ]
  },
  {
   "cell_type": "code",
   "execution_count": 11,
   "id": "7d2ac1c8-5be2-41ff-bf6c-cb8ea9817c51",
   "metadata": {},
   "outputs": [
    {
     "data": {
      "text/plain": [
       "0"
      ]
     },
     "execution_count": 11,
     "metadata": {},
     "output_type": "execute_result"
    }
   ],
   "source": [
    "tf.rank(t0).numpy()"
   ]
  },
  {
   "cell_type": "markdown",
   "id": "7187d346-c63a-4a80-9d66-552a15cdad5c",
   "metadata": {},
   "source": [
    "## Recap\n",
    "\n",
    "|Definition|Shape|Rank|Access|Pitcure|\n",
    "| --- | --- | --- |--- |--- |\n",
    "| 23 | () | 0 | 23 |\n",
    "| [ 7, 2, 9, 10]       | (4,)  |    1 | T[1]==2   | ![](images/rank1.png) |\n",
    "| [ [5.1, 3.0, 4.5], <br>&nbsp;&nbsp;[9.1, 0.1, 0.3] ]   | (2,3) |    2 | T[0,2]==4.5   | ![](images/rank2.png) |\n",
    "| [[[  1,   2], <br>&nbsp;&nbsp; [  4,   3], <br>&nbsp;&nbsp; [  7,   4]], <br>&nbsp;&nbsp;<br>&nbsp;&nbsp;[[  2, 100],<br>&nbsp;&nbsp; [  9, 100],<br>&nbsp;&nbsp;&nbsp;[  7,   5]],<br>&nbsp;&nbsp;<br>&nbsp;&nbsp;[[  1, 100],<br>&nbsp;&nbsp;&nbsp;&nbsp;[  3, 100],<br>&nbsp;&nbsp;&nbsp;&nbsp;[  0,   2]],<br>&nbsp;&nbsp;<br>&nbsp;&nbsp;[[  9, 100],<br>&nbsp;&nbsp;&nbsp;&nbsp;[  6, 100],<br>&nbsp;&nbsp;&nbsp;&nbsp;[  9,   8]]]                                                       | (4,3,2) | 3 |  T(0,2,1]==4 | ![](images/tensor-exercise1.png) |"
   ]
  },
  {
   "cell_type": "markdown",
   "id": "292ce75c-7664-45a5-b2da-d2773ddc27ac",
   "metadata": {},
   "source": [
    "### Exercise"
   ]
  },
  {
   "cell_type": "markdown",
   "id": "e3c4d5b9-006a-4c70-b91d-acc9eb904044",
   "metadata": {},
   "source": [
    "#1 Let's check shape and rank of a zero axis tensor."
   ]
  },
  {
   "cell_type": "code",
   "execution_count": 12,
   "id": "e3b4abf5-9a69-4903-8cd5-3aa584dedbff",
   "metadata": {},
   "outputs": [
    {
     "name": "stdout",
     "output_type": "stream",
     "text": [
      "tf.Tensor(23, shape=(), dtype=int32)\n"
     ]
    },
    {
     "data": {
      "text/plain": [
       "0"
      ]
     },
     "execution_count": 12,
     "metadata": {},
     "output_type": "execute_result"
    }
   ],
   "source": [
    "t0=tf.constant(23)\n",
    "print(t0)\n",
    "tf.rank(t0).numpy()"
   ]
  },
  {
   "cell_type": "markdown",
   "id": "b9c60cbd-c0e5-4069-b6ef-53f7ec0ea06a",
   "metadata": {},
   "source": [
    "#2 Now guess shape and rank of next tensor"
   ]
  },
  {
   "cell_type": "code",
   "execution_count": 13,
   "id": "13703ce0-37db-4bb6-b4fd-f5f958c91418",
   "metadata": {
    "scrolled": true
   },
   "outputs": [
    {
     "data": {
      "text/plain": [
       "<tf.Tensor: shape=(2, 3, 2), dtype=int32, numpy=\n",
       "array([[[1, 7],\n",
       "        [2, 8],\n",
       "        [3, 9]],\n",
       "\n",
       "       [[1, 7],\n",
       "        [2, 8],\n",
       "        [3, 9]]], dtype=int32)>"
      ]
     },
     "execution_count": 13,
     "metadata": {},
     "output_type": "execute_result"
    }
   ],
   "source": [
    "tf.constant([[[1,7],[2,8],[3,9]], [[1,7], [2,8], [3,9]] ])"
   ]
  },
  {
   "cell_type": "markdown",
   "id": "ce90f564-90a8-4687-8c1b-75839bc5f7b5",
   "metadata": {},
   "source": [
    "Declare the tensor draw in pitcure:\n",
    "![](images/tensor-exercise1.png)"
   ]
  },
  {
   "cell_type": "code",
   "execution_count": 14,
   "id": "f6c55347-653b-4e7b-8510-b8ca57e03333",
   "metadata": {
    "scrolled": true
   },
   "outputs": [],
   "source": [
    "xx=tf.constant([[[1,2], [4,3], [7,4]], [[2,100], [9,100], [7,5] ],   [[1,100], [3, 100], [0, 2]],   [[9,100], [6, 100], [9, 8]]])"
   ]
  },
  {
   "cell_type": "code",
   "execution_count": 15,
   "id": "690e0ac6-5f96-480b-8202-5bdc25ca3522",
   "metadata": {},
   "outputs": [
    {
     "data": {
      "text/plain": [
       "<tf.Tensor: shape=(), dtype=int32, numpy=4>"
      ]
     },
     "execution_count": 15,
     "metadata": {},
     "output_type": "execute_result"
    }
   ],
   "source": [
    "xx[0,2,1]"
   ]
  },
  {
   "cell_type": "markdown",
   "id": "c95fba9b-ae30-45d8-8077-05dc1e87ca33",
   "metadata": {},
   "source": [
    "## Slicing and reductions"
   ]
  },
  {
   "cell_type": "markdown",
   "id": "069aa5c2-39fc-482e-a30d-b009c1422375",
   "metadata": {},
   "source": [
    "### Reduction\n",
    "\n",
    "Please note that every time we accessed a tensor entiy, we get a new tensor in return."
   ]
  },
  {
   "cell_type": "code",
   "execution_count": 16,
   "id": "44f4adc1-ce00-4535-a86f-dd30dade9393",
   "metadata": {},
   "outputs": [
    {
     "data": {
      "text/plain": [
       "<tf.Tensor: shape=(), dtype=float32, numpy=4.5>"
      ]
     },
     "execution_count": 16,
     "metadata": {},
     "output_type": "execute_result"
    }
   ],
   "source": [
    "t2[0,2]"
   ]
  },
  {
   "cell_type": "markdown",
   "id": "a348b83f-2666-4b8b-ad8e-63282d46adad",
   "metadata": {},
   "source": [
    "In fact, we get a slice of the orginal tensor. Practise with a 2-rank tensor"
   ]
  },
  {
   "cell_type": "code",
   "execution_count": 17,
   "id": "0485f859-7cfe-49d5-b527-63b9dcfc455a",
   "metadata": {},
   "outputs": [
    {
     "data": {
      "text/plain": [
       "<tf.Tensor: shape=(2, 3), dtype=float32, numpy=\n",
       "array([[5.1, 3. , 4.5],\n",
       "       [9.1, 0.1, 0.3]], dtype=float32)>"
      ]
     },
     "execution_count": 17,
     "metadata": {},
     "output_type": "execute_result"
    }
   ],
   "source": [
    "t2"
   ]
  },
  {
   "cell_type": "markdown",
   "id": "9cfb29f3-03d2-4ea3-a2bd-8980dc725007",
   "metadata": {},
   "source": [
    "Retreive the first row."
   ]
  },
  {
   "cell_type": "code",
   "execution_count": 18,
   "id": "64e888e4-5242-4298-ba07-9e088115b692",
   "metadata": {
    "jp-MarkdownHeadingCollapsed": true
   },
   "outputs": [
    {
     "data": {
      "text/plain": [
       "<tf.Tensor: shape=(3,), dtype=float32, numpy=array([5.1, 3. , 4.5], dtype=float32)>"
      ]
     },
     "execution_count": 18,
     "metadata": {},
     "output_type": "execute_result"
    }
   ],
   "source": [
    "t2[0,:]"
   ]
  },
  {
   "cell_type": "markdown",
   "id": "50dd2938-83f8-4dab-b8b0-6d44dda4937b",
   "metadata": {},
   "source": [
    "Or the second column."
   ]
  },
  {
   "cell_type": "code",
   "execution_count": 19,
   "id": "7308436c-6564-41ba-901a-dc04e5fff05a",
   "metadata": {},
   "outputs": [
    {
     "data": {
      "text/plain": [
       "<tf.Tensor: shape=(2,), dtype=float32, numpy=array([3. , 0.1], dtype=float32)>"
      ]
     },
     "execution_count": 19,
     "metadata": {},
     "output_type": "execute_result"
    }
   ],
   "source": [
    "t2[:,1]"
   ]
  },
  {
   "cell_type": "markdown",
   "id": "99c6b606-3c90-4966-8f11-50dd6930735a",
   "metadata": {},
   "source": [
    "Or last column."
   ]
  },
  {
   "cell_type": "code",
   "execution_count": 20,
   "id": "d7e9a323-8f77-48d9-abd3-ec17682d5304",
   "metadata": {},
   "outputs": [
    {
     "data": {
      "text/plain": [
       "<tf.Tensor: shape=(2,), dtype=float32, numpy=array([4.5, 0.3], dtype=float32)>"
      ]
     },
     "execution_count": 20,
     "metadata": {},
     "output_type": "execute_result"
    }
   ],
   "source": [
    "t2[:,-1]"
   ]
  },
  {
   "cell_type": "markdown",
   "id": "29526e4c-5552-440f-936a-bda8a39d2272",
   "metadata": {},
   "source": [
    "Or  range of columns: please, note that the end index is excluded."
   ]
  },
  {
   "cell_type": "code",
   "execution_count": 21,
   "id": "964bf031-b043-49be-8c21-401ae9897544",
   "metadata": {},
   "outputs": [
    {
     "data": {
      "text/plain": [
       "<tf.Tensor: shape=(2, 1), dtype=float32, numpy=\n",
       "array([[5.1],\n",
       "       [9.1]], dtype=float32)>"
      ]
     },
     "execution_count": 21,
     "metadata": {},
     "output_type": "execute_result"
    }
   ],
   "source": [
    "t2[:,0:1]"
   ]
  },
  {
   "cell_type": "code",
   "execution_count": 22,
   "id": "d9e2487e-f016-4e6d-985d-b30c48b444cf",
   "metadata": {},
   "outputs": [
    {
     "data": {
      "text/plain": [
       "<tf.Tensor: shape=(2, 2), dtype=float32, numpy=\n",
       "array([[5.1, 3. ],\n",
       "       [9.1, 0.1]], dtype=float32)>"
      ]
     },
     "execution_count": 22,
     "metadata": {},
     "output_type": "execute_result"
    }
   ],
   "source": [
    "t2[:,0:2]"
   ]
  },
  {
   "cell_type": "code",
   "execution_count": 23,
   "id": "cef29702-96b1-43e0-bdbf-84645c33beb8",
   "metadata": {},
   "outputs": [
    {
     "data": {
      "text/plain": [
       "<tf.Tensor: shape=(2, 3), dtype=float32, numpy=\n",
       "array([[5.1, 3. , 4.5],\n",
       "       [9.1, 0.1, 0.3]], dtype=float32)>"
      ]
     },
     "execution_count": 23,
     "metadata": {},
     "output_type": "execute_result"
    }
   ],
   "source": [
    "t2[:,0:3]"
   ]
  },
  {
   "cell_type": "markdown",
   "id": "89351600-031f-4319-b491-1c3eab42f222",
   "metadata": {},
   "source": [
    "Or, the same, take all columns from 2 to the end."
   ]
  },
  {
   "cell_type": "code",
   "execution_count": 24,
   "id": "9e99b5d8-2018-4c85-b2c8-ba6afbd870ce",
   "metadata": {},
   "outputs": [
    {
     "data": {
      "text/plain": [
       "<tf.Tensor: shape=(2, 2), dtype=float32, numpy=\n",
       "array([[3. , 4.5],\n",
       "       [0.1, 0.3]], dtype=float32)>"
      ]
     },
     "execution_count": 24,
     "metadata": {},
     "output_type": "execute_result"
    }
   ],
   "source": [
    "t2[:,1:]"
   ]
  },
  {
   "cell_type": "markdown",
   "id": "af1f1178-bc50-4200-9af1-5d200ef1609d",
   "metadata": {},
   "source": [
    "### Reductions\n",
    "\n",
    "Let's practise on t2 again."
   ]
  },
  {
   "cell_type": "code",
   "execution_count": 25,
   "id": "ea38daa1-cdb6-4e6f-9dbe-153c6abb41cd",
   "metadata": {},
   "outputs": [
    {
     "data": {
      "text/plain": [
       "<tf.Tensor: shape=(2, 3), dtype=float32, numpy=\n",
       "array([[5.1, 3. , 4.5],\n",
       "       [9.1, 0.1, 0.3]], dtype=float32)>"
      ]
     },
     "execution_count": 25,
     "metadata": {},
     "output_type": "execute_result"
    }
   ],
   "source": [
    "t2"
   ]
  },
  {
   "cell_type": "markdown",
   "id": "feffc038-7949-45f0-ad5e-df11aafcb600",
   "metadata": {},
   "source": [
    "Reduce on all axis taking the max value."
   ]
  },
  {
   "cell_type": "code",
   "execution_count": 26,
   "id": "e975af86-e7a2-4474-9141-ce5cf87a7467",
   "metadata": {},
   "outputs": [
    {
     "data": {
      "text/plain": [
       "<tf.Tensor: shape=(), dtype=float32, numpy=9.1>"
      ]
     },
     "execution_count": 26,
     "metadata": {},
     "output_type": "execute_result"
    }
   ],
   "source": [
    "tf.reduce_max(t2)"
   ]
  },
  {
   "cell_type": "markdown",
   "id": "43c0df70-48be-4870-abb4-4c45a863f327",
   "metadata": {},
   "source": [
    "Reduce on first axis (row) taking the max value."
   ]
  },
  {
   "cell_type": "code",
   "execution_count": 27,
   "id": "fbececcd-d3b1-4ae8-9090-e3a50fbcc12f",
   "metadata": {},
   "outputs": [
    {
     "data": {
      "text/plain": [
       "<tf.Tensor: shape=(3,), dtype=float32, numpy=array([9.1, 3. , 4.5], dtype=float32)>"
      ]
     },
     "execution_count": 27,
     "metadata": {},
     "output_type": "execute_result"
    }
   ],
   "source": [
    "tf.reduce_max(t2,0)"
   ]
  },
  {
   "cell_type": "markdown",
   "id": "9a8a9974-342d-4321-85e6-5757916c7681",
   "metadata": {},
   "source": [
    "Reduce on second axis (column) taking the max value."
   ]
  },
  {
   "cell_type": "code",
   "execution_count": 28,
   "id": "0b48b12e-018d-498e-b56a-fa0719675f2c",
   "metadata": {
    "scrolled": true
   },
   "outputs": [
    {
     "data": {
      "text/plain": [
       "<tf.Tensor: shape=(2,), dtype=float32, numpy=array([5.1, 9.1], dtype=float32)>"
      ]
     },
     "execution_count": 28,
     "metadata": {},
     "output_type": "execute_result"
    }
   ],
   "source": [
    "tf.reduce_max(t2,1)"
   ]
  },
  {
   "cell_type": "markdown",
   "id": "39740ae1-2506-4b74-b921-93598ff589f2",
   "metadata": {},
   "source": [
    "Reduce on first axis (row) still keeping axis."
   ]
  },
  {
   "cell_type": "code",
   "execution_count": 29,
   "id": "2bcf082d-4695-4f11-b2a7-0a7fcae02d65",
   "metadata": {},
   "outputs": [
    {
     "data": {
      "text/plain": [
       "<tf.Tensor: shape=(1, 3), dtype=float32, numpy=array([[9.1, 3. , 4.5]], dtype=float32)>"
      ]
     },
     "execution_count": 29,
     "metadata": {},
     "output_type": "execute_result"
    }
   ],
   "source": [
    "tf.reduce_max(t2,0, keepdims=True)"
   ]
  },
  {
   "cell_type": "code",
   "execution_count": null,
   "id": "236d0353-e52e-468b-b2b0-785808042941",
   "metadata": {},
   "outputs": [],
   "source": []
  },
  {
   "cell_type": "markdown",
   "id": "8e8acd72-b442-4485-9f19-3cdab57a8452",
   "metadata": {},
   "source": [
    "### Ragged and sparse\n"
   ]
  },
  {
   "cell_type": "markdown",
   "id": "2504845e-bc9e-4506-993c-5a7bb23e0019",
   "metadata": {},
   "source": [
    "A ragged tensor simply has differen,,,"
   ]
  },
  {
   "cell_type": "code",
   "execution_count": 30,
   "id": "3ec87a3f-f2d2-4268-9547-decc0f6fa43d",
   "metadata": {},
   "outputs": [
    {
     "data": {
      "text/plain": [
       "<tf.RaggedTensor [[1, 2, 3], [4, 5]]>"
      ]
     },
     "execution_count": 30,
     "metadata": {},
     "output_type": "execute_result"
    }
   ],
   "source": [
    "r=tf.ragged.constant([[1, 2, 3], [4,5]])\n",
    "r"
   ]
  },
  {
   "cell_type": "markdown",
   "id": "07c90bd2-e757-4341-9f14-59e4c7efc41e",
   "metadata": {},
   "source": [
    "The shape presents not None values only for same length axis."
   ]
  },
  {
   "cell_type": "code",
   "execution_count": 31,
   "id": "59e41e0f-7af6-44ad-b021-c64265700ae3",
   "metadata": {},
   "outputs": [
    {
     "data": {
      "text/plain": [
       "TensorShape([2, None])"
      ]
     },
     "execution_count": 31,
     "metadata": {},
     "output_type": "execute_result"
    }
   ],
   "source": [
    "r.shape"
   ]
  },
  {
   "cell_type": "code",
   "execution_count": 32,
   "id": "263cdbbf-d369-4e68-85ea-ca279b79792e",
   "metadata": {},
   "outputs": [
    {
     "data": {
      "text/plain": [
       "(<tf.Tensor: shape=(3,), dtype=int32, numpy=array([1, 2, 3], dtype=int32)>,\n",
       " <tf.Tensor: shape=(2,), dtype=int32, numpy=array([4, 5], dtype=int32)>)"
      ]
     },
     "execution_count": 32,
     "metadata": {},
     "output_type": "execute_result"
    }
   ],
   "source": [
    "r[0,:], r[1,:]"
   ]
  },
  {
   "cell_type": "markdown",
   "id": "ddf32185-b41a-416e-948a-53feb08f94d1",
   "metadata": {},
   "source": [
    "# Logistical functions"
   ]
  },
  {
   "cell_type": "markdown",
   "id": "2f9873fa-78c5-4fb5-a2c8-10087640ee89",
   "metadata": {},
   "source": [
    "Sigmoid"
   ]
  },
  {
   "cell_type": "code",
   "execution_count": 33,
   "id": "e70e76e9-8e58-4b3d-9bc0-cba3525f8022",
   "metadata": {},
   "outputs": [
    {
     "data": {
      "text/plain": [
       "<tf.Tensor: shape=(4,), dtype=float32, numpy=array([0.26894143, 0.5       , 0.7310586 , 0.8807971 ], dtype=float32)>"
      ]
     },
     "execution_count": 33,
     "metadata": {},
     "output_type": "execute_result"
    }
   ],
   "source": [
    "x=tf.constant([ -1, 0, 1, 2], dtype=float)\n",
    "tf.keras.activations.sigmoid(x)"
   ]
  },
  {
   "cell_type": "markdown",
   "id": "30a6843d-c7d6-4f90-9a6d-f73787591963",
   "metadata": {},
   "source": [
    "Sofmax"
   ]
  },
  {
   "cell_type": "code",
   "execution_count": 34,
   "id": "5912b7b3-8ef4-4011-9025-7048575e370d",
   "metadata": {},
   "outputs": [
    {
     "data": {
      "text/plain": [
       "<tf.Tensor: shape=(4,), dtype=float32, numpy=array([0.0320586 , 0.08714432, 0.23688284, 0.6439142 ], dtype=float32)>"
      ]
     },
     "execution_count": 34,
     "metadata": {},
     "output_type": "execute_result"
    }
   ],
   "source": [
    "tf.keras.activations.softmax(x)"
   ]
  },
  {
   "cell_type": "markdown",
   "id": "7fa5f9fe-91b5-40db-b425-b05336277f5a",
   "metadata": {},
   "source": [
    "Relu"
   ]
  },
  {
   "cell_type": "code",
   "execution_count": 35,
   "id": "b2663b6f-b9b3-4db7-a2e3-7a55a1d12feb",
   "metadata": {},
   "outputs": [
    {
     "data": {
      "text/plain": [
       "<tf.Tensor: shape=(4,), dtype=float32, numpy=array([0., 0., 1., 2.], dtype=float32)>"
      ]
     },
     "execution_count": 35,
     "metadata": {},
     "output_type": "execute_result"
    }
   ],
   "source": [
    "tf.keras.activations.relu(x)"
   ]
  }
 ],
 "metadata": {
  "kernelspec": {
   "display_name": "Python 3 (ipykernel)",
   "language": "python",
   "name": "python3"
  },
  "language_info": {
   "codemirror_mode": {
    "name": "ipython",
    "version": 3
   },
   "file_extension": ".py",
   "mimetype": "text/x-python",
   "name": "python",
   "nbconvert_exporter": "python",
   "pygments_lexer": "ipython3",
   "version": "3.10.14"
  }
 },
 "nbformat": 4,
 "nbformat_minor": 5
}
